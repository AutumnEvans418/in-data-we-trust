{
 "cells": [
  {
   "cell_type": "markdown",
   "id": "4911e500",
   "metadata": {},
   "source": [
    "# Cleaning the Data\n",
    "1. Clean up the data by removing missing values and duplicates. - **Autumn**\n",
    "1. Convert titles + excerpts to lower case. - **Autumn**\n",
    "1. Remove punctuation. - **Autumn**\n",
    "1. Tokenize words. - **Joel**\n",
    "1. Remove stop words. - **Joel**\n",
    "1. Lemmatization/Stemming - **Joel**\n",
    "1. Create a Term-Document-Matrix - ?"
   ]
  },
  {
   "cell_type": "code",
   "execution_count": 1,
   "id": "fed126d7",
   "metadata": {},
   "outputs": [],
   "source": [
    "import pandas as pd\n",
    "import numpy as np\n",
    "from fastparquet import ParquetFile"
   ]
  },
  {
   "cell_type": "code",
   "execution_count": 2,
   "id": "4629a1f8",
   "metadata": {},
   "outputs": [
    {
     "data": {
      "text/plain": [
       "(17370913, 3)"
      ]
     },
     "execution_count": 2,
     "metadata": {},
     "output_type": "execute_result"
    }
   ],
   "source": [
    "# load the data\n",
    "pf = ParquetFile(\"../raw_data/nyt_data.parquet\")\n",
    "\n",
    "df = pf.to_pandas()\n",
    "\n",
    "df.shape"
   ]
  },
  {
   "cell_type": "markdown",
   "id": "d36b7593",
   "metadata": {},
   "source": [
    "## Remove Duplicates and Missing Values"
   ]
  },
  {
   "cell_type": "code",
   "execution_count": 3,
   "id": "521b441a",
   "metadata": {},
   "outputs": [
    {
     "data": {
      "text/plain": [
       "(11027535, 3)"
      ]
     },
     "execution_count": 3,
     "metadata": {},
     "output_type": "execute_result"
    }
   ],
   "source": [
    "# drop duplicates\n",
    "df.drop_duplicates(inplace=True)\n",
    "\n",
    "df.shape"
   ]
  },
  {
   "cell_type": "code",
   "execution_count": 4,
   "id": "c1c2c929",
   "metadata": {},
   "outputs": [
    {
     "data": {
      "text/plain": [
       "year       0\n",
       "title      0\n",
       "excerpt    0\n",
       "dtype: int64"
      ]
     },
     "execution_count": 4,
     "metadata": {},
     "output_type": "execute_result"
    }
   ],
   "source": [
    "df.isnull().sum()"
   ]
  },
  {
   "cell_type": "code",
   "execution_count": 5,
   "id": "544cb0dc",
   "metadata": {},
   "outputs": [
    {
     "data": {
      "text/plain": [
       "year             0\n",
       "title          153\n",
       "excerpt    5761610\n",
       "dtype: int64"
      ]
     },
     "execution_count": 5,
     "metadata": {},
     "output_type": "execute_result"
    }
   ],
   "source": [
    "# remove missing values\n",
    "df.replace(r'^\\s*$', np.nan, inplace=True, regex=True)\n",
    "df.isnull().sum()"
   ]
  },
  {
   "cell_type": "code",
   "execution_count": 6,
   "id": "6ceffe93",
   "metadata": {},
   "outputs": [
    {
     "data": {
      "text/plain": [
       "(11027532, 3)"
      ]
     },
     "execution_count": 6,
     "metadata": {},
     "output_type": "execute_result"
    }
   ],
   "source": [
    "df.dropna(how='all', subset=['title', 'excerpt'], axis=0, inplace=True)\n",
    "df.shape"
   ]
  },
  {
   "cell_type": "code",
   "execution_count": 7,
   "id": "cfc8d8e1",
   "metadata": {},
   "outputs": [
    {
     "data": {
      "text/html": [
       "<div>\n",
       "<style scoped>\n",
       "    .dataframe tbody tr th:only-of-type {\n",
       "        vertical-align: middle;\n",
       "    }\n",
       "\n",
       "    .dataframe tbody tr th {\n",
       "        vertical-align: top;\n",
       "    }\n",
       "\n",
       "    .dataframe thead th {\n",
       "        text-align: right;\n",
       "    }\n",
       "</style>\n",
       "<table border=\"1\" class=\"dataframe\">\n",
       "  <thead>\n",
       "    <tr style=\"text-align: right;\">\n",
       "      <th></th>\n",
       "      <th>year</th>\n",
       "      <th>title</th>\n",
       "      <th>excerpt</th>\n",
       "    </tr>\n",
       "  </thead>\n",
       "  <tbody>\n",
       "    <tr>\n",
       "      <th>0</th>\n",
       "      <td>1920</td>\n",
       "      <td>At last the Federal Reserve Board has issued r...</td>\n",
       "      <td>NaN</td>\n",
       "    </tr>\n",
       "    <tr>\n",
       "      <th>1</th>\n",
       "      <td>1920</td>\n",
       "      <td>WILL TEST DOOR SERVICE.</td>\n",
       "      <td>Service Board to Further Examine I.R.T. Safety...</td>\n",
       "    </tr>\n",
       "    <tr>\n",
       "      <th>2</th>\n",
       "      <td>1920</td>\n",
       "      <td>Sanction for Chinese Contracts.</td>\n",
       "      <td>NaN</td>\n",
       "    </tr>\n",
       "    <tr>\n",
       "      <th>3</th>\n",
       "      <td>1920</td>\n",
       "      <td>LEADS FRAZIER BY 4,496.</td>\n",
       "      <td>Langer's Margin Falls in North Dakota--Gronna ...</td>\n",
       "    </tr>\n",
       "    <tr>\n",
       "      <th>4</th>\n",
       "      <td>1920</td>\n",
       "      <td>CHICAGO, April 30.--With 300 suspicious charac...</td>\n",
       "      <td>Federal Agents and Police Round-- up Suspiciou...</td>\n",
       "    </tr>\n",
       "  </tbody>\n",
       "</table>\n",
       "</div>"
      ],
      "text/plain": [
       "   year                                              title  \\\n",
       "0  1920  At last the Federal Reserve Board has issued r...   \n",
       "1  1920                            WILL TEST DOOR SERVICE.   \n",
       "2  1920                    Sanction for Chinese Contracts.   \n",
       "3  1920                            LEADS FRAZIER BY 4,496.   \n",
       "4  1920  CHICAGO, April 30.--With 300 suspicious charac...   \n",
       "\n",
       "                                             excerpt  \n",
       "0                                                NaN  \n",
       "1  Service Board to Further Examine I.R.T. Safety...  \n",
       "2                                                NaN  \n",
       "3  Langer's Margin Falls in North Dakota--Gronna ...  \n",
       "4  Federal Agents and Police Round-- up Suspiciou...  "
      ]
     },
     "execution_count": 7,
     "metadata": {},
     "output_type": "execute_result"
    }
   ],
   "source": [
    "df.head()"
   ]
  },
  {
   "cell_type": "markdown",
   "id": "7fcc360e",
   "metadata": {},
   "source": [
    "## Normalize Data"
   ]
  },
  {
   "cell_type": "code",
   "execution_count": 8,
   "id": "fadfbf1a",
   "metadata": {},
   "outputs": [
    {
     "data": {
      "text/html": [
       "<div>\n",
       "<style scoped>\n",
       "    .dataframe tbody tr th:only-of-type {\n",
       "        vertical-align: middle;\n",
       "    }\n",
       "\n",
       "    .dataframe tbody tr th {\n",
       "        vertical-align: top;\n",
       "    }\n",
       "\n",
       "    .dataframe thead th {\n",
       "        text-align: right;\n",
       "    }\n",
       "</style>\n",
       "<table border=\"1\" class=\"dataframe\">\n",
       "  <thead>\n",
       "    <tr style=\"text-align: right;\">\n",
       "      <th></th>\n",
       "      <th>year</th>\n",
       "      <th>title</th>\n",
       "      <th>excerpt</th>\n",
       "      <th>title_excerpt</th>\n",
       "    </tr>\n",
       "  </thead>\n",
       "  <tbody>\n",
       "    <tr>\n",
       "      <th>0</th>\n",
       "      <td>1920</td>\n",
       "      <td>At last the Federal Reserve Board has issued r...</td>\n",
       "      <td>NaN</td>\n",
       "      <td>at last the federal reserve board has issued r...</td>\n",
       "    </tr>\n",
       "    <tr>\n",
       "      <th>1</th>\n",
       "      <td>1920</td>\n",
       "      <td>WILL TEST DOOR SERVICE.</td>\n",
       "      <td>Service Board to Further Examine I.R.T. Safety...</td>\n",
       "      <td>will test door service \\r\\nservice board to fu...</td>\n",
       "    </tr>\n",
       "    <tr>\n",
       "      <th>2</th>\n",
       "      <td>1920</td>\n",
       "      <td>Sanction for Chinese Contracts.</td>\n",
       "      <td>NaN</td>\n",
       "      <td>sanction for chinese contracts \\r\\n</td>\n",
       "    </tr>\n",
       "    <tr>\n",
       "      <th>3</th>\n",
       "      <td>1920</td>\n",
       "      <td>LEADS FRAZIER BY 4,496.</td>\n",
       "      <td>Langer's Margin Falls in North Dakota--Gronna ...</td>\n",
       "      <td>leads frazier by 4 496 \\r\\nlanger s margin fal...</td>\n",
       "    </tr>\n",
       "    <tr>\n",
       "      <th>4</th>\n",
       "      <td>1920</td>\n",
       "      <td>CHICAGO, April 30.--With 300 suspicious charac...</td>\n",
       "      <td>Federal Agents and Police Round-- up Suspiciou...</td>\n",
       "      <td>chicago  april 30   with 300 suspicious charac...</td>\n",
       "    </tr>\n",
       "  </tbody>\n",
       "</table>\n",
       "</div>"
      ],
      "text/plain": [
       "   year                                              title  \\\n",
       "0  1920  At last the Federal Reserve Board has issued r...   \n",
       "1  1920                            WILL TEST DOOR SERVICE.   \n",
       "2  1920                    Sanction for Chinese Contracts.   \n",
       "3  1920                            LEADS FRAZIER BY 4,496.   \n",
       "4  1920  CHICAGO, April 30.--With 300 suspicious charac...   \n",
       "\n",
       "                                             excerpt  \\\n",
       "0                                                NaN   \n",
       "1  Service Board to Further Examine I.R.T. Safety...   \n",
       "2                                                NaN   \n",
       "3  Langer's Margin Falls in North Dakota--Gronna ...   \n",
       "4  Federal Agents and Police Round-- up Suspiciou...   \n",
       "\n",
       "                                       title_excerpt  \n",
       "0  at last the federal reserve board has issued r...  \n",
       "1  will test door service \\r\\nservice board to fu...  \n",
       "2                sanction for chinese contracts \\r\\n  \n",
       "3  leads frazier by 4 496 \\r\\nlanger s margin fal...  \n",
       "4  chicago  april 30   with 300 suspicious charac...  "
      ]
     },
     "execution_count": 8,
     "metadata": {},
     "output_type": "execute_result"
    }
   ],
   "source": [
    "# combine title and excerpt, remove punctuation, and convert to lower case.\n",
    "reg = r'[^\\w\\s]'\n",
    "\n",
    "df['title_excerpt'] = df['title'].fillna('').str.lower().str.replace(reg, ' ', regex=True) + '\\r\\n' + df['excerpt'].fillna('').str.lower().str.replace(reg, ' ', regex=True)\n",
    "\n",
    "df.head()"
   ]
  },
  {
   "cell_type": "code",
   "execution_count": 9,
   "id": "5eb963a8",
   "metadata": {},
   "outputs": [
    {
     "data": {
      "text/html": [
       "<div>\n",
       "<style scoped>\n",
       "    .dataframe tbody tr th:only-of-type {\n",
       "        vertical-align: middle;\n",
       "    }\n",
       "\n",
       "    .dataframe tbody tr th {\n",
       "        vertical-align: top;\n",
       "    }\n",
       "\n",
       "    .dataframe thead th {\n",
       "        text-align: right;\n",
       "    }\n",
       "</style>\n",
       "<table border=\"1\" class=\"dataframe\">\n",
       "  <thead>\n",
       "    <tr style=\"text-align: right;\">\n",
       "      <th></th>\n",
       "      <th>title_excerpt</th>\n",
       "    </tr>\n",
       "  </thead>\n",
       "  <tbody>\n",
       "    <tr>\n",
       "      <th>0</th>\n",
       "      <td>at last the federal reserve board has issued r...</td>\n",
       "    </tr>\n",
       "    <tr>\n",
       "      <th>1</th>\n",
       "      <td>will test door service \\r\\nservice board to fu...</td>\n",
       "    </tr>\n",
       "    <tr>\n",
       "      <th>2</th>\n",
       "      <td>sanction for chinese contracts \\r\\n</td>\n",
       "    </tr>\n",
       "    <tr>\n",
       "      <th>3</th>\n",
       "      <td>leads frazier by 4 496 \\r\\nlanger s margin fal...</td>\n",
       "    </tr>\n",
       "    <tr>\n",
       "      <th>4</th>\n",
       "      <td>chicago  april 30   with 300 suspicious charac...</td>\n",
       "    </tr>\n",
       "  </tbody>\n",
       "</table>\n",
       "</div>"
      ],
      "text/plain": [
       "                                       title_excerpt\n",
       "0  at last the federal reserve board has issued r...\n",
       "1  will test door service \\r\\nservice board to fu...\n",
       "2                sanction for chinese contracts \\r\\n\n",
       "3  leads frazier by 4 496 \\r\\nlanger s margin fal...\n",
       "4  chicago  april 30   with 300 suspicious charac..."
      ]
     },
     "execution_count": 9,
     "metadata": {},
     "output_type": "execute_result"
    }
   ],
   "source": [
    "df.drop(columns=['year','title','excerpt'], inplace=True)\n",
    "df.head()"
   ]
  },
  {
   "cell_type": "code",
   "execution_count": 10,
   "id": "0322db78",
   "metadata": {},
   "outputs": [],
   "source": [
    "# save result\n",
    "df.to_parquet('clean_data.parquet', compression='gzip')"
   ]
  }
 ],
 "metadata": {
  "kernelspec": {
   "display_name": "3.13.5",
   "language": "python",
   "name": "python3"
  },
  "language_info": {
   "codemirror_mode": {
    "name": "ipython",
    "version": 3
   },
   "file_extension": ".py",
   "mimetype": "text/x-python",
   "name": "python",
   "nbconvert_exporter": "python",
   "pygments_lexer": "ipython3",
   "version": "3.13.5"
  }
 },
 "nbformat": 4,
 "nbformat_minor": 5
}
