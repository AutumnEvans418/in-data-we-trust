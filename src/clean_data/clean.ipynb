{
 "cells": [
  {
   "cell_type": "markdown",
   "id": "4911e500",
   "metadata": {},
   "source": [
    "# Cleaning the Data\n",
    "1. Clean up the data by removing missing values and duplicates. - **Autumn**\n",
    "1. Convert titles + excerpts to lower case. - **Autumn**\n",
    "1. Remove punctuation. - **Autumn**\n",
    "1. Tokenize words. - **Joel**\n",
    "1. Remove stop words. - **Joel**\n",
    "1. Lemmatization/Stemming - **Joel**\n",
    "1. Create a Term-Document-Matrix - ?"
   ]
  },
  {
   "cell_type": "code",
   "execution_count": 1,
   "id": "fed126d7",
   "metadata": {},
   "outputs": [],
   "source": [
    "import pandas as pd\n",
    "import numpy as np\n",
    "from fastparquet import ParquetFile"
   ]
  },
  {
   "cell_type": "code",
   "execution_count": null,
   "id": "4629a1f8",
   "metadata": {},
   "outputs": [],
   "source": [
    "# load the data\n",
    "pf = ParquetFile(\"nyt_data.parquet\")\n",
    "\n",
    "df = pf.to_pandas()\n",
    "\n",
    "df.shape"
   ]
  },
  {
   "cell_type": "markdown",
   "id": "d36b7593",
   "metadata": {},
   "source": [
    "## Remove Duplicates and Missing Values"
   ]
  },
  {
   "cell_type": "code",
   "execution_count": null,
   "id": "521b441a",
   "metadata": {},
   "outputs": [],
   "source": [
    "# drop duplicates\n",
    "df.drop_duplicates(inplace=True)\n",
    "\n",
    "df.shape"
   ]
  },
  {
   "cell_type": "code",
   "execution_count": null,
   "id": "c1c2c929",
   "metadata": {},
   "outputs": [],
   "source": [
    "df.isnull().sum()"
   ]
  },
  {
   "cell_type": "code",
   "execution_count": null,
   "id": "544cb0dc",
   "metadata": {},
   "outputs": [],
   "source": [
    "# remove missing values\n",
    "df.replace(r'^\\s*$', np.nan, inplace=True)\n",
    "df.isnull().sum()"
   ]
  },
  {
   "cell_type": "code",
   "execution_count": null,
   "id": "6ceffe93",
   "metadata": {},
   "outputs": [],
   "source": [
    "df.dropna(how='any', axis=0, inplace=True)\n",
    "df.shape"
   ]
  }
 ],
 "metadata": {
  "kernelspec": {
   "display_name": "3.13.5",
   "language": "python",
   "name": "python3"
  },
  "language_info": {
   "codemirror_mode": {
    "name": "ipython",
    "version": 3
   },
   "file_extension": ".py",
   "mimetype": "text/x-python",
   "name": "python",
   "nbconvert_exporter": "python",
   "pygments_lexer": "ipython3",
   "version": "3.13.5"
  }
 },
 "nbformat": 4,
 "nbformat_minor": 5
}
